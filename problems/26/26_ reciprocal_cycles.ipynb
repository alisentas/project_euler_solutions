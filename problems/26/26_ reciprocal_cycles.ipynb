{
 "cells": [
  {
   "cell_type": "markdown",
   "metadata": {},
   "source": [
    "# Reciprocal cycles\n",
    "\n",
    "[Problem Link](https://projecteuler.net/problem=26)\n",
    "\n",
    "## Problem Description\n",
    "\n",
    "A unit fraction contains 1 in the numerator. The decimal representation of the unit fractions with denominators 2 to 10 are given:\n",
    "\n",
    "    1/2\t= \t0.5\n",
    "    1/3\t= \t0.(3)\n",
    "    1/4\t= \t0.25\n",
    "    1/5\t= \t0.2\n",
    "    1/6\t= \t0.1(6)\n",
    "    1/7\t= \t0.(142857)\n",
    "    1/8\t= \t0.125\n",
    "    1/9\t= \t0.(1)\n",
    "    1/10\t= \t0.1 \n",
    "\n",
    "Where 0.1(6) means 0.166666..., and has a 1-digit recurring cycle. It can be seen that 1/7 has a 6-digit recurring cycle.\n",
    "\n",
    "Find the value of d < 1000 for which 1/d contains the longest recurring cycle in its decimal fraction part.\n"
   ]
  },
  {
   "cell_type": "markdown",
   "metadata": {},
   "source": [
    "## Algorithm\n",
    "\n",
    "Let's examine the **1 / 7** case, which is **0.(142857)**, now\n",
    "\n",
    "If you divide 10 by 7, you get **1** as solution and 3 as remainder.\n",
    "\n",
    "3 * 10 = 30 and if you divide 30 by 7, you get **4** as solution and 2 as remainder,\n",
    "\n",
    "2 * 10 = 20 and if you divide 20 by 7, you get **2** as solution and 6 as remainder,\n",
    "\n",
    "if you divide 60 by 7 you get **8** as solution and 4 as remainder, and so on and so forth, you get the idea...\n",
    "\n",
    "Until you divide 50 by 7, get **7** as result and 1 as a remainder, next step would be to divide 10 by 7 and that would cause a cycle as we already calculated it at the beginning.\n",
    "\n",
    "Hence, we can say that 142857 part cycles in **1 / 7** without calculating further."
   ]
  },
  {
   "cell_type": "markdown",
   "metadata": {},
   "source": [
    "We'll start by defining a function to calculate and return cycle for us."
   ]
  },
  {
   "cell_type": "code",
   "execution_count": 1,
   "metadata": {},
   "outputs": [],
   "source": [
    "def find_cycle(num: int) -> str:\n",
    "    \"\"\" Finds the cycle (if any) in 1 / num \"\"\"\n",
    "    dividends = [] # This will hold the dividends in the cycle\n",
    "    cycle = \"\" # This will hold the current cycle\n",
    "    \n",
    "    dividend = 10 # number to divide the number by\n",
    "    while True:\n",
    "        if dividend < num:\n",
    "            dividend *= 10\n",
    "        elif dividend > num:\n",
    "            if dividend not in dividends:\n",
    "                dividends.append(dividend)\n",
    "                quotient, remainder = dividend // num, dividend % num\n",
    "                cycle += str(quotient)\n",
    "                if dividend % num == 0:\n",
    "                    return \"\"\n",
    "                else:\n",
    "                    dividend = remainder\n",
    "            else:\n",
    "                return cycle\n",
    "        else:\n",
    "            return cycle"
   ]
  },
  {
   "cell_type": "markdown",
   "metadata": {},
   "source": [
    "Let's test the function"
   ]
  },
  {
   "cell_type": "code",
   "execution_count": 2,
   "metadata": {},
   "outputs": [
    {
     "name": "stdout",
     "output_type": "stream",
     "text": [
      "2 \n",
      "3 3\n",
      "4 \n",
      "5 \n",
      "6 16\n",
      "7 142857\n",
      "8 \n",
      "9 1\n"
     ]
    }
   ],
   "source": [
    "for i in range(2, 10):\n",
    "    print(i, find_cycle(i))"
   ]
  },
  {
   "cell_type": "markdown",
   "metadata": {},
   "source": [
    "Seems like it's working, now onto calculating cycles for every number lesser than 1000:"
   ]
  },
  {
   "cell_type": "code",
   "execution_count": 3,
   "metadata": {},
   "outputs": [
    {
     "name": "stdout",
     "output_type": "stream",
     "text": [
      "Number 983 has the biggest cycle with 884 elements.\n",
      "Execution time: 0.2168 seconds.\n"
     ]
    }
   ],
   "source": [
    "from euler.utils.timing import print_exec_time\n",
    "import numpy as np\n",
    "\n",
    "def find_answer():\n",
    "    cycle_lengths = [len(find_cycle(x)) for x in range(2, 1000)]\n",
    "    biggest_idx = np.argmax(cycle_lengths)\n",
    "    \n",
    "    # 2 is added because range starts from 2 and not 0 so for example the 10th element in the list would be 12\n",
    "    print(f\"Number {2 + biggest_idx} has the biggest cycle with {cycle_lengths[biggest_idx]} elements.\")\n",
    "    \n",
    "print_exec_time(find_answer)"
   ]
  },
  {
   "cell_type": "markdown",
   "metadata": {},
   "source": [
    "## Additional Stuff"
   ]
  },
  {
   "cell_type": "code",
   "execution_count": 4,
   "metadata": {},
   "outputs": [
    {
     "data": {
      "image/png": "[encoded data removed]",
      "text/plain": [
       "<Figure size 432x288 with 1 Axes>"
      ]
     },
     "metadata": {
      "needs_background": "light"
     },
     "output_type": "display_data"
    }
   ],
   "source": [
    "import matplotlib.pyplot as plt\n",
    "\n",
    "indices = np.arange(2, 1000)\n",
    "cycle_lengths = [len(find_cycle(x)) for x in range(2, 1000)]\n",
    "\n",
    "fig, ax = plt.subplots()\n",
    "ax.plot(indices, cycle_lengths)\n",
    "ax.set_xlabel('Number')\n",
    "ax.set_ylabel('Cycle length')\n",
    "ax.set_title(\"Cycle lengths of numbers\")\n",
    "\n",
    "plt.show()"
   ]
  }
 ],
 "metadata": {
  "kernelspec": {
   "display_name": "Python 3",
   "language": "python",
   "name": "python3"
  },
  "language_info": {
   "codemirror_mode": {
    "name": "ipython",
    "version": 3
   },
   "file_extension": ".py",
   "mimetype": "text/x-python",
   "name": "python",
   "nbconvert_exporter": "python",
   "pygments_lexer": "ipython3",
   "version": "3.8.3"
  }
 },
 "nbformat": 4,
 "nbformat_minor": 2
}
