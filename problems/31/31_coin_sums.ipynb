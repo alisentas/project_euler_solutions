{
 "cells": [
  {
   "cell_type": "markdown",
   "metadata": {},
   "source": [
    "# Coin sums\n",
    "\n",
    "[Problem Link](https://projecteuler.net/problem=31)\n",
    "\n",
    "## Problem Description\n",
    "\n",
    "In the United Kingdom the currency is made up of pound (£) and pence (p). There are eight coins in general circulation:\n",
    "\n",
    "    1p, 2p, 5p, 10p, 20p, 50p, £1 (100p), and £2 (200p).\n",
    "\n",
    "It is possible to make £2 in the following way:\n",
    "\n",
    "    1×£1 + 1×50p + 2×20p + 1×5p + 1×2p + 3×1p\n",
    "\n",
    "How many different ways can £2 be made using any number of coins?"
   ]
  },
  {
   "cell_type": "markdown",
   "metadata": {},
   "source": [
    "## Algorithm\n",
    "\n",
    "A simple recursive algorithm which calculates coin count by adding\n",
    "\n",
    " - Count for current input using coins one level below input index (for example if input was calculate 200 pennies using £2, this would then count 200 pennies using £1)\n",
    " - Count for current input - current currency index using current input index (for example if input was calculate 200 pennies using £2, this would then count 0 pennies using £2)\n",
    " \n",
    "And for termination criteria, if current input is 0, return 1"
   ]
  },
  {
   "cell_type": "code",
   "execution_count": 1,
   "metadata": {},
   "outputs": [],
   "source": [
    "coins = [1, 2, 5, 10, 20, 50, 100, 200]\n",
    "\n",
    "def count(target: int, coinIndex: int) -> int:\n",
    "    if target == 0:\n",
    "        return 1\n",
    "    elif target < 0 or coinIndex < 0:\n",
    "        return 0\n",
    "\n",
    "    return count(target, coinIndex - 1) + count(target - coins[coinIndex], coinIndex)"
   ]
  },
  {
   "cell_type": "code",
   "execution_count": 2,
   "metadata": {},
   "outputs": [
    {
     "name": "stdout",
     "output_type": "stream",
     "text": [
      "73682\n",
      "Execution time: 0.6855 seconds.\n"
     ]
    }
   ],
   "source": [
    "from euler.utils.timing import print_exec_time\n",
    "\n",
    "def find_answer():\n",
    "    print(count(200, 7))\n",
    "\n",
    "print_exec_time(find_answer)"
   ]
  }
 ],
 "metadata": {
  "kernelspec": {
   "display_name": "Python 3",
   "language": "python",
   "name": "python3"
  },
  "language_info": {
   "codemirror_mode": {
    "name": "ipython",
    "version": 3
   },
   "file_extension": ".py",
   "mimetype": "text/x-python",
   "name": "python",
   "nbconvert_exporter": "python",
   "pygments_lexer": "ipython3",
   "version": "3.8.3"
  }
 },
 "nbformat": 4,
 "nbformat_minor": 2
}
